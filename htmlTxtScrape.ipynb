{
 "cells": [
  {
   "cell_type": "code",
   "execution_count": 1,
   "metadata": {},
   "outputs": [
    {
     "data": {
      "text/plain": [
       "individual (generic function with 1 method)"
      ]
     },
     "execution_count": 1,
     "metadata": {},
     "output_type": "execute_result"
    }
   ],
   "source": [
    "function individual(array)\n",
    "  h = Real[]\n",
    "  for a = 2:size(array,1)-1\n",
    "    if array[a] != array[a+1]\n",
    "      push!(h, array[a])\n",
    "    end end\n",
    "  return h\n",
    "end"
   ]
  },
  {
   "cell_type": "code",
   "execution_count": 2,
   "metadata": {},
   "outputs": [
    {
     "data": {
      "text/plain": [
       "dataSep (generic function with 1 method)"
      ]
     },
     "execution_count": 2,
     "metadata": {},
     "output_type": "execute_result"
    }
   ],
   "source": [
    "function dataSep(Array)\n",
    "  h = Real[]\n",
    "  for a = 1:(size(Array,1)-1)\n",
    "    if abs(Array[a] - Array[a+1])>1000\n",
    "      push!(h,Array[a])\n",
    "    end end\n",
    "  push!(h, Array[end])\n",
    "  return h\n",
    "end"
   ]
  },
  {
   "cell_type": "code",
   "execution_count": 3,
   "metadata": {},
   "outputs": [
    {
     "data": {
      "text/plain": [
       "betExtract (generic function with 1 method)"
      ]
     },
     "execution_count": 3,
     "metadata": {},
     "output_type": "execute_result"
    }
   ],
   "source": [
    "function betExtract(string)\n",
    "  b = 1\n",
    "  h = Real[]\n",
    "  for a=b:length(string)\n",
    "    sub_string = string[a:length(string)]\n",
    "    x = search(sub_string,'d')[1]\n",
    "    if x != 0 && sub_string[x:x+3] == \"data\" && sub_string[x+5:x+8] == \"name\"\n",
    "    push!(h,x+a-1)\n",
    "    end\n",
    "    b = x+1\n",
    "  end\n",
    "  dataNames = individual(h)\n",
    "  return dataSep(dataNames)\n",
    "end"
   ]
  },
  {
   "cell_type": "code",
   "execution_count": 4,
   "metadata": {},
   "outputs": [
    {
     "data": {
      "text/plain": [
       "NameFix (generic function with 1 method)"
      ]
     },
     "execution_count": 4,
     "metadata": {},
     "output_type": "execute_result"
    }
   ],
   "source": [
    "function NameFix(x)\n",
    "  a = search(x,' ')\n",
    "  Part1 = x[a+1:end]\n",
    "  Part2 = x[1]\n",
    "  return \"$Part1 $Part2.\"\n",
    "end"
   ]
  },
  {
   "cell_type": "code",
   "execution_count": 5,
   "metadata": {},
   "outputs": [
    {
     "data": {
      "text/plain": [
       "playerNames (generic function with 1 method)"
      ]
     },
     "execution_count": 5,
     "metadata": {},
     "output_type": "execute_result"
    }
   ],
   "source": [
    "function playerNames()\n",
    "  cd(\"C:\\\\Users\\\\Simons\\\\AppData\\\\Local\\\\Julia-0.4.0-dev\\\\Sports Betting Hedge Fund\\\\Web Scraping\")\n",
    "  string = open(readall, \"html.txt\")\n",
    "  Data = betExtract(string)\n",
    "  Data = [Data[1], Data[2]]\n",
    "  h = Real[]\n",
    "  for Player = Data\n",
    "  characters1 = Player\n",
    "   html = string[characters1:end]\n",
    "  char1 = search(html,'=')+1\n",
    "  characters2 = characters1+char1\n",
    "  html = string[characters2:end]\n",
    "  char2 = search(html,'>') - 3\n",
    "  player = string[characters1+char1:characters2+char2]\n",
    "  h = [h; player]\n",
    "  end\n",
    "  return h\n",
    "end"
   ]
  },
  {
   "cell_type": "code",
   "execution_count": 6,
   "metadata": {},
   "outputs": [
    {
     "data": {
      "text/plain": [
       "playerNamesGlobal (generic function with 1 method)"
      ]
     },
     "execution_count": 6,
     "metadata": {},
     "output_type": "execute_result"
    }
   ],
   "source": [
    "function playerNamesGlobal(Data)\n",
    "  Data = [Data[1], Data[2]]\n",
    "  h = Real[]\n",
    "  for Player = Data\n",
    "  characters1 = Player\n",
    "   html = string[characters1:end]\n",
    "  char1 = search(html,'=')+1\n",
    "  characters2 = characters1+char1\n",
    "  html = string[characters2:end]\n",
    "  char2 = search(html,'>') - 3\n",
    "  player = string[characters1+char1:characters2+char2]\n",
    "  h = [h; player]\n",
    "  end\n",
    "  return h\n",
    "end"
   ]
  },
  {
   "cell_type": "code",
   "execution_count": 7,
   "metadata": {},
   "outputs": [
    {
     "data": {
      "text/plain": [
       "scrapeLines (generic function with 1 method)"
      ]
     },
     "execution_count": 7,
     "metadata": {},
     "output_type": "execute_result"
    }
   ],
   "source": [
    "function scrapeLines()\n",
    "  cd(\"C:\\\\Users\\\\Simons\\\\AppData\\\\Local\\\\Julia-0.4.0-dev\\\\Sports Betting Hedge Fund\\\\Web Scraping\")\n",
    "  string = open(readall, \"html.txt\")\n",
    "  Chars = betExtract(string)\n",
    "  Players = playerNames()\n",
    "  player1 = Players[1]; player2 = Players[2]\n",
    "  html1 = string[Chars[1]:Chars[2]]\n",
    "  html2 = string[Chars[2]:(2*Chars[2]-Chars[1])]\n",
    "  h = Real[]\n",
    "  for a=1:length(html1)\n",
    "    if int(html1[a]) == 46 &&  48 <= int(html1[a-1]) <= 57\n",
    "        if 48 <= int(html1[a+1]) <= 57\n",
    "          if 48 <= int(html1[a+2]) <= 57\n",
    "              h = [h; html1[a-1:a+2]]\n",
    "          else\n",
    "              h = [h; html1[a-1:a+1]]\n",
    "          end end\n",
    "  else\n",
    "    if 46 <= int(html1[a]) <= 57\n",
    "      if int(html1[a-1]) ==  62 && int(html1[a+1]) == 60\n",
    "          h = [h; html1[a]]\n",
    "    end end end end\n",
    "  g = Real[]\n",
    "  for a=1:length(html2)\n",
    "    if int(html2[a]) == 46 &&  48 <= int(html2[a-1]) <= 57\n",
    "        if 48 <= int(html2[a+1]) <= 57\n",
    "          if 48 <= int(html2[a+2]) <= 57\n",
    "              g = [g; html2[a-1:a+2]]\n",
    "          else\n",
    "              g = [g; html2[a-1:a+1]]\n",
    "          end end\n",
    "  else\n",
    "    if 46 <= int(html2[a]) <= 57\n",
    "      if int(html2[a-1]) ==  62 && int(html2[a+1]) == 60\n",
    "          g = [g; html2[a]]\n",
    "    end end end end\n",
    "  h = [NameFix(player1); h[1:end-1]]\n",
    "  g = [NameFix(player2); g]\n",
    "  a = [h g]\n",
    "  writecsv(\"Bet Line.csv\",a)\n",
    "  return a\n",
    "end"
   ]
  }
 ],
 "metadata": {
  "kernelspec": {
   "display_name": "Julia 0.6.0",
   "language": "julia",
   "name": "julia-0.6"
  },
  "language_info": {
   "file_extension": ".jl",
   "mimetype": "application/julia",
   "name": "julia",
   "version": "0.6.0"
  }
 },
 "nbformat": 4,
 "nbformat_minor": 2
}
