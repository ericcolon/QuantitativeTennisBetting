{
 "cells": [
  {
   "cell_type": "code",
   "execution_count": 1,
   "metadata": {},
   "outputs": [
    {
     "data": {
      "text/plain": [
       "TodaysBet (generic function with 1 method)"
      ]
     },
     "execution_count": 1,
     "metadata": {},
     "output_type": "execute_result"
    }
   ],
   "source": [
    "function TodaysBet()\n",
    "  cd(\"C:\\\\Users\\\\Simons\\\\AppData\\\\Local\\\\Julia-0.4.0-dev\\\\Sports Betting Hedge Fund\\\\Current Odds\")\n",
    "  TodayStats = readcsv(\"Games to be Played.csv\")\n",
    "  Open = TodayStats[1,3]          # Used for DataOdds\n",
    "  Year  = (TodayStats[1,1]-1)    # Used for DataOdds\n",
    "  PotentialBets = Real[0 0 0 0]\n",
    "  for Match = 4:size(TodayStats,1)\n",
    "    P1 = TodayStats[Match,2]   # Player 1\n",
    "    P2 = TodayStats[Match,3]   # Player 2\n",
    "    P1Line = TodayStats[Match,4]+1 # Best SportBook Line for P1\n",
    "    P2Line = TodayStats[Match,5]+1 # Best SportBook Line for P2\n",
    "    Odds = DataOdds(P1,P2,Year,Open) # 2x2 Matrix with calculated betting lines\n",
    "    if summary(Odds) != \"ASCIIString\"\n",
    "      if P1 == Odds[1,1]  # if statement asserts correct Betting Lines\n",
    "        P1BetLine = Odds[1,2]\n",
    "        P2BetLine = Odds[2,2]\n",
    "      else\n",
    "        P1BetLine = Odds[2,2]\n",
    "        P2BetLine = Odds[1,2]\n",
    "      end\n",
    "      if P1BetLine>P1Line && P2BetLine<P2Line\n",
    "        EV = P1BetLine -P1Line\n",
    "        PotentialBets = [PotentialBets\n",
    "                                   TodayStats[Match] P1 P1Line EV]\n",
    "      elseif P1BetLine<P1Line && P2BetLine>P2Line\n",
    "        EV = P2BetLine - P2Line\n",
    "        PotentialBets = [PotentialBets\n",
    "                                   TodayStats[Match] P2   P2Line EV]\n",
    "      end\n",
    "    end end\n",
    "  return PotentialBets[2:end,1:end]\n",
    "  end"
   ]
  },
  {
   "cell_type": "code",
   "execution_count": 2,
   "metadata": {},
   "outputs": [
    {
     "data": {
      "text/plain": [
       "Who_To_Bet_On (generic function with 1 method)"
      ]
     },
     "execution_count": 2,
     "metadata": {},
     "output_type": "execute_result"
    }
   ],
   "source": [
    "function Who_To_Bet_On(BR)\n",
    "  function WtBo(BR)\n",
    "  ToConsider = TodaysBet()\n",
    "  for a = 1:size(ToConsider,1)\n",
    "    Match = ToConsider[a,1:end]\n",
    "    if Match[4] < 1\n",
    "      Bet = BR*0.02*Match[4]\n",
    "      println(\"Match \",Match[1], \". Place \",Bet,\" on \",Match[2])\n",
    "    end end end\n",
    "    if summary(WtBo(BR)) == \"Void\"\n",
    "    println(\"No More Betting Lines Available\")\n",
    "  end\n",
    "end"
   ]
  },
  {
   "cell_type": "code",
   "execution_count": 3,
   "metadata": {},
   "outputs": [
    {
     "data": {
      "text/plain": [
       "FullSimulation (generic function with 1 method)"
      ]
     },
     "execution_count": 3,
     "metadata": {},
     "output_type": "execute_result"
    }
   ],
   "source": [
    "function FullSimulation(BR,Line)\n",
    "  AUS13 = Simulate(2013,\"AUS\",Line,BR)[1]\n",
    "  French13 = Simulate(2013,\"French\",Line,AUS13)[1]\n",
    "  UK13 = Simulate(2013,\"UK\",Line,French13)[1]\n",
    "  US13 = Simulate(2013,\"US\",Line,UK13)[1]\n",
    "  AUS14 = Simulate(2014,\"AUS\",Line,US13)[1]\n",
    "  French14 = Simulate(2014,\"French\",Line,AUS14)[1]\n",
    "  UK14 = Simulate(2014,\"UK\",Line,French14)[1]\n",
    "  US14 = Simulate(2014,\"US\",Line,UK14)[1]\n",
    "  AUS15 = Simulate(2015,\"AUS\",Line,US14)[1]\n",
    "  return AUS15\n",
    "end\n"
   ]
  },
  {
   "cell_type": "code",
   "execution_count": 4,
   "metadata": {},
   "outputs": [
    {
     "data": {
      "text/plain": [
       "YearCompoundSimulation (generic function with 1 method)"
      ]
     },
     "execution_count": 4,
     "metadata": {},
     "output_type": "execute_result"
    }
   ],
   "source": [
    "function YearCompoundSimulation(Year,BR,Line)\n",
    "  AUS14 = Simulate(Year,\"AUS\",Line,BR)[1]\n",
    "  IndianWells14 = Simulate(Year,\"Indianwells\",Line,AUS14)[1]\n",
    "  Miami14 = Simulate(Year,\"Miami\",Line,IndianWells14)[1]\n",
    "  MonteCarlo14 = Simulate(Year,\"MonteCarlo\",Line,Miami14)[1]\n",
    "  Madrid14 = Simulate(Year,\"Madrid\",Line,MonteCarlo14)[1]\n",
    "  Rome14 = Simulate(Year,\"Rome\",Line,Madrid14)[1]\n",
    "  French14 = Simulate(Year,\"French\",Line,Rome14)[1]\n",
    "  UK14 = Simulate(Year,\"UK\",Line,French14)[1]\n",
    "  Cincinnati14 = Simulate(Year,\"Cincinnati\",Line,UK14)[1]\n",
    "  US14 = Simulate(Year,\"US\",Line,Cincinnati14)[1]\n",
    "  Shanghai14 = Simulate(Year,\"Shanghai\",Line,US14)[1]\n",
    "  Paris14 = Simulate(Year,\"Paris\",Line,Shanghai14)[1]\n",
    "  Masters14 = Simulate(Year,\"Masters\",Line,Paris14)[1]\n",
    "  return Masters14\n",
    "end"
   ]
  },
  {
   "cell_type": "code",
   "execution_count": 5,
   "metadata": {},
   "outputs": [
    {
     "data": {
      "text/plain": [
       "ExpectedReturns (generic function with 1 method)"
      ]
     },
     "execution_count": 5,
     "metadata": {},
     "output_type": "execute_result"
    }
   ],
   "source": [
    "function ExpectedReturns(Year,Series)\n",
    "  BR = 100\n",
    "  Line = \"Avg\"\n",
    "  if Series == \"All\"\n",
    "    AUS = Simulate(Year,\"AUS\",Line,BR)\n",
    "    French = Simulate(Year,\"French\",Line,BR)\n",
    "    UK = Simulate(Year,\"UK\",Line,BR)\n",
    "    US = Simulate(Year,\"US\",Line,BR)\n",
    "    Cincinnati = Simulate(Year,\"Cincinnati\",Line,BR)\n",
    "    IndianWells = Simulate(Year,\"Indianwells\",Line,BR)\n",
    "    Madrid = Simulate(Year,\"Madrid\",Line,BR)\n",
    "    Miami = Simulate(Year,\"Miami\",Line,BR)\n",
    "    MonteCarlo = Simulate(Year,\"MonteCarlo\",Line,BR)\n",
    "    Paris = Simulate(Year,\"Paris\",Line,BR)\n",
    "    Rome = Simulate(Year,\"Rome\",Line,BR)\n",
    "    Shanghai = Simulate(Year,\"Shanghai\",Line,BR)\n",
    "    Returns = Real[AUS[1]; French[1]; UK[1]; US[1]; Cincinnati[1]; IndianWells[1]; Madrid[1]; Masterscup[1]; Miami[1]; MonteCarlo[1]; Paris[1]; Rome[1]; Shanghai[1]]-100\n",
    "    NoMatches = sum([size(AUS[2],1); size(French[2],1); size(UK[2],1); size(US[2],1); size(Cincinnati[2],1); size(IndianWells[2],1); size(Madrid[2],1); size(Masterscup[2],1); size(Miami[2],1); size(MonteCarlo[2],1); size(Paris[2],1); size(Rome[2],1); size(Shanghai[2],1)]-1)\n",
    "     elseif Series == \"Masters\"\n",
    "    Cincinnati = Simulate(Year,\"Cincinnati\",Line,BR)\n",
    "    IndianWells = Simulate(Year,\"Indianwells\",Line,BR)\n",
    "    Madrid = Simulate(Year,\"Madrid\",Line,BR)\n",
    "    Miami = Simulate(Year,\"Miami\",Line,BR)\n",
    "    MonteCarlo = Simulate(Year,\"MonteCarlo\",Line,BR)\n",
    "    Paris = Simulate(Year,\"Paris\",Line,BR)\n",
    "    Rome = Simulate(Year,\"Rome\",Line,BR)\n",
    "    Shanghai = Simulate(Year,\"Shanghai\",Line,BR)\n",
    "    Returns = Real[Cincinnati[1]; IndianWells[1]; Madrid[1]; Masterscup[1]; Miami[1]; MonteCarlo[1]; Paris[1]; Rome[1]; Shanghai[1]]-100\n",
    "    NoMatches = sum([size(Cincinnati[2],1); size(IndianWells[2],1); size(Madrid[2],1); size(Masterscup[2],1); size(Miami[2],1); size(MonteCarlo[2],1); size(Paris[2],1); size(Rome[2],1); size(Shanghai[2],1)]-1)\n",
    "  else\n",
    "    AUS = Simulate(Year,\"AUS\",Line,BR)\n",
    "    French = Simulate(Year,\"French\",Line,BR)\n",
    "    UK = Simulate(Year,\"UK\",Line,BR)\n",
    "    US = Simulate(Year,\"US\",Line,BR)\n",
    "    Returns = Real[AUS[1]; French[1]; UK[1]; US[1]]-100\n",
    "    NoMatches = sum([size(AUS[2],1); size(French[2],1); size(UK[2],1); size(US[2],1)]-1)\n",
    "    Series = \"Grand Slams\"\n",
    "  end\n",
    "  EV = Rounding(sum(Returns)/size(Returns,1))\n",
    "  Std_Dev = Rounding(sqrt(sum((Returns - EV).^2)/size(Returns,1)))\n",
    "  println(\"For \",Series,\" in \",Year)\n",
    "  println(\"The expected value per grand slam is \",EV,\" percent\")\n",
    "  println(\"With a standard deviation of \", Std_Dev)\n",
    "  println(\"Over a total of \",NoMatches,\" bets\")\n",
    "end"
   ]
  },
  {
   "cell_type": "code",
   "execution_count": null,
   "metadata": {
    "collapsed": true
   },
   "outputs": [],
   "source": []
  }
 ],
 "metadata": {
  "kernelspec": {
   "display_name": "Julia 0.6.0",
   "language": "julia",
   "name": "julia-0.6"
  },
  "language_info": {
   "file_extension": ".jl",
   "mimetype": "application/julia",
   "name": "julia",
   "version": "0.6.0"
  }
 },
 "nbformat": 4,
 "nbformat_minor": 2
}
