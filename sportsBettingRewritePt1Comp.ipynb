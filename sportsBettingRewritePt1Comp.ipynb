{
 "cells": [
  {
   "cell_type": "code",
   "execution_count": 1,
   "metadata": {
    "collapsed": false
   },
   "outputs": [
    {
     "data": {
      "text/plain": [
       "rounding (generic function with 1 method)"
      ]
     },
     "execution_count": 1,
     "metadata": {},
     "output_type": "execute_result"
    }
   ],
   "source": [
    "## Basic rounding to 2dp\n",
    "function rounding(x)\n",
    "    return (floor(x*100))/100\n",
    "end"
   ]
  },
  {
   "cell_type": "code",
   "execution_count": 2,
   "metadata": {
    "collapsed": false
   },
   "outputs": [
    {
     "data": {
      "text/plain": [
       "106x143 Array{Any,2}:\n",
       " \"Player\"               \"Rank 2014\"  …   \"2012 Ret BP P(Convert)\"\n",
       " \"Djokovic N.\"         1                0.46                     \n",
       " \"Federer R.\"          2                0.42                     \n",
       " \"Nadal R.\"            3                0.49                     \n",
       " \"Wawrinka S.\"         4                0.43                     \n",
       " \"Nishikori K.\"        5             …  0.39                     \n",
       " \"Murray A.\"           6                0.41                     \n",
       " \"Berdych T.\"          7                0.42                     \n",
       " \"Raonic M.\"           8                0.39                     \n",
       " \"Cilic M.\"            9                0.42                     \n",
       " \"Ferrer D.\"          10             …  0.44                     \n",
       " \"Dimitrov G.\"        11                0.36                     \n",
       " \"Tsonga J.W.\"        12                0.42                     \n",
       " ⋮                                   ⋱                           \n",
       " \"Lacko L.\"           94                0.35                     \n",
       " \"Dodig.I\"            95             …  0.38                     \n",
       " \"Mathieu P.H.\"       96                0.37                     \n",
       " \"Kamke T.\"           97                0.37                     \n",
       " \"Sela D.\"            98                0.35                     \n",
       " \"Soeda G.\"           99                0.37                     \n",
       " \"Krajinovic F.\"     100             …  0.67                     \n",
       " \"Gimeno-Traver D.\"    0                0.34                     \n",
       " \"Coric B.\"            0                0                        \n",
       " \"Melzer J.\"           0                0.45                     \n",
       " \"De Schepper K.\"      0                0.2                      \n",
       " \"Troicki V.\"          0             …  0.41                     "
      ]
     },
     "execution_count": 2,
     "metadata": {},
     "output_type": "execute_result"
    }
   ],
   "source": [
    "# Changing to correct directory\n",
    "cd(\"/home/simon/Documents/jobHunt/resumeWebsite/dataScience/sportsBetting/spreadsheetFiles\")\n",
    "# Uploading player stats\n",
    "playerStats = readcsv(\"APTStats.csv\")"
   ]
  },
  {
   "cell_type": "code",
   "execution_count": 3,
   "metadata": {
    "collapsed": false
   },
   "outputs": [
    {
     "data": {
      "text/plain": [
       "29"
      ]
     },
     "execution_count": 3,
     "metadata": {},
     "output_type": "execute_result"
    }
   ],
   "source": [
    "## Locating a specific data column\n",
    "function dataSort(statName, data)\n",
    "    for i = 1:size(data,2)\n",
    "        if statName == data[1,i]\n",
    "            return i\n",
    "        end \n",
    "    end\n",
    "end\n",
    "\n",
    "# F.E. the column number for \"Rank 2012\"\n",
    "dataSort(\"Clay P(Wc)-P(Wt)\", playerStats)"
   ]
  },
  {
   "cell_type": "code",
   "execution_count": 4,
   "metadata": {
    "collapsed": false
   },
   "outputs": [
    {
     "data": {
      "text/plain": [
       "1x143 Array{Any,2}:\n",
       " \"Raonic M.\"  8  4440  2.49  11  2860  …  0.4693  0.33  317  0.3899  0.39"
      ]
     },
     "execution_count": 4,
     "metadata": {},
     "output_type": "execute_result"
    }
   ],
   "source": [
    "# Find a specific player's data\n",
    "function playerOdds(player, data)\n",
    "    for i = 1:size(data,1)\n",
    "        if data[i,1] == player\n",
    "            return data[i,1:end]\n",
    "    end end\n",
    "    return\"No Stats Available\"\n",
    "end\n",
    "\n",
    "# F.E. the column number for \"Rank 2012\"\n",
    "playerOdds(\"Raonic M.\", playerStats)"
   ]
  },
  {
   "cell_type": "code",
   "execution_count": 5,
   "metadata": {
    "collapsed": false
   },
   "outputs": [
    {
     "data": {
      "text/plain": [
       "0.36367245003090876"
      ]
     },
     "execution_count": 5,
     "metadata": {},
     "output_type": "execute_result"
    }
   ],
   "source": [
    "# Returns a players break point dominance ratio\n",
    "# Key:\n",
    "# bPRF: Break Point Return Faced, bPRC: Break Point Return Converted\n",
    "# bPSR: Break Point Serve Faced,  bPSS: Break Point Serve Saved\n",
    "function breakPointDomRatio(player,year,data)\n",
    "    pOdds = playerOdds(player,data)\n",
    "    bPSF = pOdds[dataSort(string(year,\" Ser BP P(Faced)\"),data)]\n",
    "    bPSS = pOdds[dataSort(string(year,\" Ser BP P(Saved)\"),data)]\n",
    "    bPRF = pOdds[dataSort(string(year,\" Ret BP P(Game)\"),data)]\n",
    "    bPRC = pOdds[dataSort(string(year,\" Ret BP P(Convert)\"),data)]\n",
    "    return (bPRF*bPRC)/bPSF*(1-bPRC)\n",
    "end\n",
    "\n",
    "# F.E. break point dominance ratio of Murray in 2012\n",
    "breakPointDomRatio(\"Murray A.\", 2012, playerStats)"
   ]
  },
  {
   "cell_type": "code",
   "execution_count": 6,
   "metadata": {
    "collapsed": false
   },
   "outputs": [
    {
     "data": {
      "text/plain": [
       "1x2 Array{Float64,2}:\n",
       " 0.0  1.76777"
      ]
     },
     "execution_count": 6,
     "metadata": {},
     "output_type": "execute_result"
    }
   ],
   "source": [
    "function ratioOdds(player1,player2, Open, year, data)\n",
    "    # to find basic dom ratios for specific year\n",
    "    # *** Turn to exp decaying rate ***\n",
    "    domRatio = dataSort(string(year,\" Dom Ratio Games\"),data)\n",
    "    # to find surface variance for specific open\n",
    "    if Open == \"UK\" || Open == \"Queens\" || Open == \"Newport\" || Open == \"Hertogenbosch\" ||\n",
    "    Open == \"Eastbourne\"\n",
    "        surfaceVar = dataSort(\"Grass P(Wg)-P(Wt)\",data)\n",
    "    elseif Open == \"French\" || Open == \"Madrid\" || Open == \"MonteCarlo\" ||\n",
    "    Open == \"Rome\" || Open == \"Umag\" || Open == \"Stuttgart\" || Open == \"Nice\" ||\n",
    "    Open == \"Munich\" || Open == \"Kitzbuhel\" || Open == \"Houston\" || Open == \"Hamburg\" ||\n",
    "    Open == \"Gstaad\" || Open == \"Charleston\" || Open == \"Casablanca\" || \n",
    "    Open == \"Buenosaires\" || Open == \"Bucharest\" || Open == \"Bogota\" || \n",
    "    Open == \"Bastad\" || Open == \"Baracelona\" || Open == \"Acapulco\"\n",
    "        surfaceVar = dataSort(\"Clay P(Wc)-P(Wt)\",data)\n",
    "    else\n",
    "        surfaceVar = dataSort(\"Hard P(Wh)-P(Wt)\",data)\n",
    "    end\n",
    "    # Now we have surface variance and dom ratios, we can begin to create\n",
    "    # our arficial betting line\n",
    "    p1Odds = playerOdds(player1, data)\n",
    "    p2Odds = playerOdds(player2, data)\n",
    "    # Firstly get specific player odds\n",
    "    domP1 = p1Odds[domRatio]\n",
    "    domP2 = p2Odds[domRatio]\n",
    "    sVarP1 = p1Odds[surfaceVar]\n",
    "    sVarP2 = p2Odds[surfaceVar]\n",
    "    bPDRP1 = breakPointDomRatio(player1,year,data)\n",
    "    bPDRP2 = breakPointDomRatio(player2,year,data)\n",
    "    Tot1 = domP1*sVarP1*bPDRP1 \n",
    "    Tot2 = domP2*sVarP2*bPDRP2\n",
    "    if (Tot1 - Tot2) > 0\n",
    "        return [1 (Tot1/Tot2)]\n",
    "    else\n",
    "        return [0 (Tot2/Tot1)]\n",
    "    end\n",
    "end\n",
    "\n",
    "# F.E. the ratioOdds result of Ferrer playing Nadal at the Madrid Open in 2012 is\n",
    "ratioOdds(\"Ferrer D.\",\"Nadal R.\",\"Madrid\",2012,playerStats)"
   ]
  },
  {
   "cell_type": "code",
   "execution_count": 21,
   "metadata": {
    "collapsed": false
   },
   "outputs": [
    {
     "data": {
      "text/plain": [
       "2x2 Array{Any,2}:\n",
       " \"Nadal R.\"   1.56568\n",
       " \"Ferrer D.\"  2.76777"
      ]
     },
     "execution_count": 21,
     "metadata": {},
     "output_type": "execute_result"
    }
   ],
   "source": [
    "# Creates an artificial betting line\n",
    "function artLine(player1,player2,Open,year,data)\n",
    "    if summary(playerOdds(player1,data)) != \"ASCIIString\" && \n",
    "        summary(playerOdds(player2,data)) != \"ASCIIString\"\n",
    "        odds = ratioOdds(player1,player2,Open,year,data)\n",
    "        if odds[1] == 1\n",
    "            return [player1 1+1/odds[2]; player2 1+odds[2]]\n",
    "        else\n",
    "            return [player2 1+1/odds[2]; player1 1+odds[2]]\n",
    "        end\n",
    "    else\n",
    "        return \"No Betting Line Available\"\n",
    "    end\n",
    "end\n",
    "\n",
    "# F.E. the artificial of Ferrer playing Nadal at the Madrid Open in 2012 is\n",
    "# ** Uses the stats from the year before, need to work an exponentially decay year system\n",
    "artLine(\"Ferrer D.\",\"Nadal R.\",\"Madrid\",2012,playerStats)"
   ]
  },
  {
   "cell_type": "code",
   "execution_count": null,
   "metadata": {
    "collapsed": true
   },
   "outputs": [],
   "source": []
  }
 ],
 "metadata": {
  "kernelspec": {
   "display_name": "Julia 0.4.6",
   "language": "julia",
   "name": "julia-0.4"
  },
  "language_info": {
   "file_extension": ".jl",
   "mimetype": "application/julia",
   "name": "julia",
   "version": "0.4.6"
  }
 },
 "nbformat": 4,
 "nbformat_minor": 0
}
