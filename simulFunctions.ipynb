{
 "cells": [
  {
   "cell_type": "code",
   "execution_count": 1,
   "metadata": {},
   "outputs": [
    {
     "data": {
      "text/plain": [
       "PlayerOdds (generic function with 1 method)"
      ]
     },
     "execution_count": 1,
     "metadata": {},
     "output_type": "execute_result"
    }
   ],
   "source": [
    "## Returns an individual players stats ##\n",
    "function PlayerOdds(data,x)\n",
    "  b=0\n",
    "  for a::Int=1:size(data,1)\n",
    "    if data[a,1] == x\n",
    "      b = data[a,1:end]; break\n",
    "    end end\n",
    "  if b == 0\n",
    "    b = \"No Stats Available\"\n",
    "  end\n",
    "  return b\n",
    "end"
   ]
  },
  {
   "cell_type": "code",
   "execution_count": 2,
   "metadata": {},
   "outputs": [
    {
     "data": {
      "text/plain": [
       "DRodds (generic function with 1 method)"
      ]
     },
     "execution_count": 2,
     "metadata": {},
     "output_type": "execute_result"
    }
   ],
   "source": [
    "## Calculates a betting lines using Dominance Ratio and court varience ##\n",
    "function DRodds(p1,p2)\n",
    "  a1=p1[15];  a2=p2[15]\n",
    "  b1=p1[33];  b2=p2[33]\n",
    "  c = a1*b1-a2*b2\n",
    "  if c>0\n",
    "    d=1\n",
    "    e=(a1*b1)/(a2*b2)\n",
    "  else\n",
    "    d=0\n",
    "    e=(a2*b2)/(a1*b1)\n",
    "  end\n",
    "  return [d e]\n",
    "end"
   ]
  },
  {
   "cell_type": "code",
   "execution_count": 3,
   "metadata": {},
   "outputs": [
    {
     "data": {
      "text/plain": [
       "Odds (generic function with 1 method)"
      ]
     },
     "execution_count": 3,
     "metadata": {},
     "output_type": "execute_result"
    }
   ],
   "source": [
    "## Calculates the odds between a player matchup ##\n",
    "function Odds(data,p1,p2)\n",
    "  x=PlayerOdds(data,p1)\n",
    "  y=PlayerOdds(data,p2)\n",
    "  if summary(x) == \"1x45 Array{Any,2}\" && summary(y) == \"1x45 Array{Any,2}\"\n",
    "  d=DRodds(x,y)\n",
    "  if d[1] == 1\n",
    "    c=p1; e=p2\n",
    "  else\n",
    "    c=p2; e=p1\n",
    "  end\n",
    "  return [c d[2]\n",
    "              e 1/d[2]]\n",
    "  else\n",
    "    return \"No Betting Line Available\"\n",
    "  end\n",
    "end"
   ]
  },
  {
   "cell_type": "code",
   "execution_count": 4,
   "metadata": {},
   "outputs": [
    {
     "data": {
      "text/plain": [
       "NoMatches (generic function with 1 method)"
      ]
     },
     "execution_count": 4,
     "metadata": {},
     "output_type": "execute_result"
    }
   ],
   "source": [
    "## Calculates the number of viable matches ##\n",
    "function NoMatches(BettingOdds,data)\n",
    "  n=0\n",
    "  h=Real[]\n",
    "  for b=1:size(BettingOdds,1)\n",
    "    for c=1:size(data,1)\n",
    "      for d=1:size(data,1)\n",
    "      ptotal1 = data[c,1]\n",
    "      ptotal2 = data[d,1]\n",
    "      p1 = BettingOdds[b,1]\n",
    "      p2 = BettingOdds[b,2]\n",
    "      if p1 == ptotal1\n",
    "          if p2 == ptotal2\n",
    "            push!(h,b)\n",
    "     end end\n",
    "    end  end  end\n",
    "  return h\n",
    "end"
   ]
  },
  {
   "cell_type": "code",
   "execution_count": 5,
   "metadata": {},
   "outputs": [
    {
     "data": {
      "text/plain": [
       "Viable (generic function with 1 method)"
      ]
     },
     "execution_count": 5,
     "metadata": {},
     "output_type": "execute_result"
    }
   ],
   "source": [
    "## Calculates which bets are viable and EV ##\n",
    "function Viable(BettingOdds,Data)\n",
    " VMatches=Real[0 0 0]\n",
    "  for h=NoMatches(BettingOdds,Data)\n",
    "    Match = BettingOdds[h,1:end]\n",
    "    p1 = Match[1]\n",
    "    p2 = Match[2]\n",
    "    BLine = Odds(Data,p1,p2)\n",
    "    if p1 == BLine[1,1]\n",
    "      WinLine = Match[5] - (1+1/BLine[1,2])\n",
    "      LossLine = Match[6] - (1+1/BLine[2,2])\n",
    "    else\n",
    "      WinLine = Match[5] - (1+1/BLine[2,2])\n",
    "      LossLine = Match[6] - (1+1/BLine[1,2])\n",
    "    end\n",
    "    if WinLine > 0 && LossLine <= 0\n",
    "      a = p1;   EV = WinLine/Match[5]\n",
    "      VMatches=[VMatches\n",
    "                          h a EV]\n",
    "    elseif LossLine > 0 && WinLine <= 0\n",
    "      a = p2;   EV = LossLine/Match[5]\n",
    "      VMatches=[VMatches\n",
    "                          h a EV]\n",
    "    end end\n",
    "  return VMatches[2:end,1:end]\n",
    "end\n"
   ]
  },
  {
   "cell_type": "code",
   "execution_count": 6,
   "metadata": {},
   "outputs": [
    {
     "data": {
      "text/plain": [
       "Kelly (generic function with 1 method)"
      ]
     },
     "execution_count": 6,
     "metadata": {},
     "output_type": "execute_result"
    }
   ],
   "source": [
    "## Kelly Betting ##\n",
    "function Kelly(BettingOdds,Data,BR)\n",
    "  h=Real[]\n",
    "    for a = 1:size(Viable(BettingOdds,Data),1)\n",
    "    EV =  Viable(BettingOdds,Data,)[a,3]\n",
    "      if EV <=1\n",
    "        n= BR*0.02*EV\n",
    "      else\n",
    "        n=0\n",
    "      end\n",
    "    push!(h,n)\n",
    "    end\n",
    "  return h\n",
    "end"
   ]
  },
  {
   "cell_type": "code",
   "execution_count": 7,
   "metadata": {},
   "outputs": [
    {
     "data": {
      "text/plain": [
       "Simul (generic function with 1 method)"
      ]
     },
     "execution_count": 7,
     "metadata": {},
     "output_type": "execute_result"
    }
   ],
   "source": [
    "## Simulation (bankroll: 1000, Bet: Kelly) ##\n",
    "function Simul(BettingOdds,Data)\n",
    "  MatchStats = Viable(BettingOdds,Data)\n",
    "  n=1000\n",
    "  h=Real[]\n",
    "  g=Real[]\n",
    "  BS = Kelly(BettingOdds,Data,n)\n",
    "  for a = 1:size(MatchStats,1)\n",
    "    b= BettingOdds[MatchStats[a],1:end]\n",
    "    if MatchStats[a,2] == b[1]\n",
    "      c = b[5]*BS[a]\n",
    "      n+=c\n",
    "      push!(h,c)\n",
    "    else\n",
    "      n-=BS[a]\n",
    "    end end\n",
    "  x=size(h,1)/size(MatchStats,1)\n",
    "  return n,size(h,1),h\n",
    "end"
   ]
  }
 ],
 "metadata": {
  "kernelspec": {
   "display_name": "Julia 0.6.0",
   "language": "julia",
   "name": "julia-0.6"
  },
  "language_info": {
   "file_extension": ".jl",
   "mimetype": "application/julia",
   "name": "julia",
   "version": "0.6.0"
  }
 },
 "nbformat": 4,
 "nbformat_minor": 2
}
